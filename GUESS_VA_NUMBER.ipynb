{
  "nbformat": 4,
  "nbformat_minor": 0,
  "metadata": {
    "colab": {
      "name": "GUESS VA NUMBER.ipynb",
      "provenance": [],
      "collapsed_sections": []
    },
    "kernelspec": {
      "name": "python3",
      "display_name": "Python 3"
    }
  },
  "cells": [
    {
      "cell_type": "code",
      "metadata": {
        "id": "uslJHfYfYfzt",
        "outputId": "d84bda86-a2f6-401e-951e-e990977090a0",
        "colab": {
          "base_uri": "https://localhost:8080/",
          "height": 363
        }
      },
      "source": [
        "\n",
        "def binaryfunction(divident):\n",
        "  binar=[]\n",
        "  while divident!=0:\n",
        "    qot=divident//2\n",
        "    rem=divident%2\n",
        "    divident=qot    \n",
        "    binar.append(rem)\n",
        "  binar.reverse()\n",
        "  \n",
        "  return binar \n",
        "\n",
        "cards=[[]for i in range(6)]\n",
        "first_number_each_card=[2**i for i in range(6)]\n",
        "for num in range(1,64):\n",
        "  bin_dig=binaryfunction(num)\n",
        "  for i in range(len(bin_dig)):\n",
        "    check=bin_dig[i]*2**(len(bin_dig)-1-i)\n",
        "    if check in first_number_each_card:\n",
        "      cards[len(bin_dig)-1-i].append(num)\n",
        "def gameplay():\n",
        "  new=0\n",
        "  player_input=input(\"Think of a number and between 1 to 63 and type 'START' when you are ready\")\n",
        "  valid_entries=['YES','NO']\n",
        "  \n",
        "  for i in range(6):  \n",
        "    print(\"Does your number exist in the card?\",i+1,\"\\n cards\",i+1,\":\",cards[i])\n",
        "    b=input(\"Enter either YES or NO:\")\n",
        "    while b not in valid_entries:\n",
        "      print(\"Does your number exist in the card\",i+1,\"\\n cards\",i+1,\":\",cards[i])\n",
        "      question=input(\"Enter either 'YES' or 'NO' correctly:\")\n",
        "    if b==\"YES\":\n",
        "      new=new+cards[i][0] \n",
        "      \n",
        "  print(\"The number you thought was:\",new)\n",
        "  \n",
        "    \n",
        "    \n",
        "gameplay()\n",
        "\n",
        "\n",
        "\n",
        "\n",
        "\n",
        "\n",
        "\n",
        "  "
      ],
      "execution_count": null,
      "outputs": [
        {
          "output_type": "stream",
          "text": [
            "Think of a number and between 1 to 63 and type 'START' when you are readyYES\n",
            "Does your number exist in the card? 1 \n",
            " cards 1 : [1, 3, 5, 7, 9, 11, 13, 15, 17, 19, 21, 23, 25, 27, 29, 31, 33, 35, 37, 39, 41, 43, 45, 47, 49, 51, 53, 55, 57, 59, 61, 63]\n",
            "Enter either YES or NO:YES\n",
            "Does your number exist in the card? 2 \n",
            " cards 2 : [2, 3, 6, 7, 10, 11, 14, 15, 18, 19, 22, 23, 26, 27, 30, 31, 34, 35, 38, 39, 42, 43, 46, 47, 50, 51, 54, 55, 58, 59, 62, 63]\n",
            "Enter either YES or NO:YES\n",
            "Does your number exist in the card? 3 \n",
            " cards 3 : [4, 5, 6, 7, 12, 13, 14, 15, 20, 21, 22, 23, 28, 29, 30, 31, 36, 37, 38, 39, 44, 45, 46, 47, 52, 53, 54, 55, 60, 61, 62, 63]\n",
            "Enter either YES or NO:YES\n",
            "Does your number exist in the card? 4 \n",
            " cards 4 : [8, 9, 10, 11, 12, 13, 14, 15, 24, 25, 26, 27, 28, 29, 30, 31, 40, 41, 42, 43, 44, 45, 46, 47, 56, 57, 58, 59, 60, 61, 62, 63]\n",
            "Enter either YES or NO:YES\n",
            "Does your number exist in the card? 5 \n",
            " cards 5 : [16, 17, 18, 19, 20, 21, 22, 23, 24, 25, 26, 27, 28, 29, 30, 31, 48, 49, 50, 51, 52, 53, 54, 55, 56, 57, 58, 59, 60, 61, 62, 63]\n",
            "Enter either YES or NO:NO\n",
            "Does your number exist in the card? 6 \n",
            " cards 6 : [32, 33, 34, 35, 36, 37, 38, 39, 40, 41, 42, 43, 44, 45, 46, 47, 48, 49, 50, 51, 52, 53, 54, 55, 56, 57, 58, 59, 60, 61, 62, 63]\n",
            "Enter either YES or NO:NO\n",
            "The number you thought was: 15\n"
          ],
          "name": "stdout"
        }
      ]
    },
    {
      "cell_type": "code",
      "metadata": {
        "id": "njLGGVDcOwNr",
        "outputId": "7898f9ce-7a2f-4f93-a31e-7344f105f1d8",
        "colab": {
          "base_uri": "https://localhost:8080/",
          "height": 34
        }
      },
      "source": [
        "def binaryfunction(divident):\n",
        "  binar=[]\n",
        "  while divident!=0:\n",
        "    qot=divident//2\n",
        "    rem=divident%2\n",
        "    divident=qot    \n",
        "    binar.append(rem)\n",
        "  binar.reverse()\n",
        "  \n",
        "  return binar \n",
        "binaryfunction(5)"
      ],
      "execution_count": null,
      "outputs": [
        {
          "output_type": "execute_result",
          "data": {
            "text/plain": [
              "[1, 0, 1]"
            ]
          },
          "metadata": {
            "tags": []
          },
          "execution_count": 3
        }
      ]
    },
    {
      "cell_type": "code",
      "metadata": {
        "id": "wB9YBAmZh-x7"
      },
      "source": [
        ""
      ],
      "execution_count": null,
      "outputs": []
    }
  ]
}